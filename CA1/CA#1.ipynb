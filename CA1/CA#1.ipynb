{
 "cells": [
  {
   "cell_type": "markdown",
   "metadata": {},
   "source": [
    "# <center>CryptoCurrencies CA#1<center>\n",
    "<h1><center>Introduction to Cryptography<center></h1>\n",
    "\n",
    "#### <center>\"Mahdi - Noori\"<center>"
   ]
  },
  {
   "cell_type": "markdown",
   "metadata": {},
   "source": [
    "## StoryLine:\n",
    "We have TinTin and Haddock on two seperate islands and they want to send messages to each other using morse codes!!    \n",
    "\n",
    "However, there is a problem over there. Roberto Rastapopoulos (Their enemy!) is listening to their conversation to figure out what they are saying to each other!    \n",
    "\n",
    "Now TinTin wants to use some encryption and decryption to ensure that Roberto couldn't understand what they are saying. Help TinTin to acheive his goal!"
   ]
  },
  {
   "cell_type": "markdown",
   "metadata": {},
   "source": [
    "## Imports:"
   ]
  },
  {
   "cell_type": "code",
   "execution_count": 2,
   "metadata": {},
   "outputs": [],
   "source": [
    "from Crypto.Cipher import AES\n",
    "from Crypto.Random import get_random_bytes\n",
    "from Crypto.Util.Padding import pad, unpad\n",
    "from Crypto.PublicKey import RSA\n",
    "from Crypto.Cipher import PKCS1_OAEP\n",
    "from Crypto.Hash import SHA256\n",
    "from Crypto.Signature import PKCS1_v1_5"
   ]
  },
  {
   "cell_type": "markdown",
   "metadata": {},
   "source": [
    "## Contatnts:"
   ]
  },
  {
   "cell_type": "code",
   "execution_count": 5,
   "metadata": {},
   "outputs": [],
   "source": [
    "IV = get_random_bytes(16)\n",
    "AES_MODE = AES.MODE_CBC\n",
    "MESSAGE_PATH = \"Confidential-Message.txt\"\n",
    "RSA_KEY_SIZE = 1024"
   ]
  },
  {
   "cell_type": "markdown",
   "metadata": {},
   "source": [
    "## Part 1: Symmetric Cryptography\n",
    "\n"
   ]
  },
  {
   "cell_type": "markdown",
   "metadata": {},
   "source": [
    "**Important Note**: In all steps, use **AES-128** encryption method for encryption/decryption. You can use python cryptography libraries for this purpose."
   ]
  },
  {
   "cell_type": "markdown",
   "metadata": {},
   "source": [
    "TinTin decided to design a symmetirc encryption scheme for his connection with haddock. He asked you to design it for him using these steps:"
   ]
  },
  {
   "cell_type": "code",
   "execution_count": 6,
   "metadata": {},
   "outputs": [],
   "source": [
    "def symmetric_encryptor(input_message:str , key:str):\n",
    "    # Write a program to encrypt the given string input\n",
    "    # CODE HERE:\n",
    "    \n",
    "    cipher = AES.new(key, AES_MODE, iv=IV)\n",
    "    cipher_text = cipher.encrypt(pad(input_message.encode('utf-8'), AES.block_size))\n",
    "\n",
    "    return cipher_text"
   ]
  },
  {
   "cell_type": "code",
   "execution_count": 7,
   "metadata": {},
   "outputs": [],
   "source": [
    "def symmetric_decryptor(input_ciphertext:str , key:str):\n",
    "    # Write a program to decrypt the given string input\n",
    "    # CODE HERE:\n",
    "    \n",
    "    cipher = AES.new(key, AES_MODE, iv=IV)\n",
    "    plain_text = cipher.decrypt(input_ciphertext)\n",
    "    \n",
    "    return unpad(plain_text, AES.block_size).decode('utf-8')"
   ]
  },
  {
   "cell_type": "code",
   "execution_count": 8,
   "metadata": {},
   "outputs": [],
   "source": [
    "def symmetric_verifier(plaintext:str, ciphertext:str, key:str):\n",
    "    # Verify the correctness of the decryption process by\n",
    "    # comparing the original message with the decrypted message.\n",
    "    # output should be boolean(ture or false)\n",
    "    # CODE HERE:\n",
    "\n",
    "    decrypted_text = symmetric_decryptor(ciphertext, key)\n",
    "    return decrypted_text == plaintext"
   ]
  },
  {
   "cell_type": "markdown",
   "metadata": {},
   "source": [
    "Now test your functions by encrypting & decrypting the ((confidential-message.txt)) file."
   ]
  },
  {
   "cell_type": "markdown",
   "metadata": {},
   "source": [
    "First we generate a key for encryption and open the text file"
   ]
  },
  {
   "cell_type": "code",
   "execution_count": 9,
   "metadata": {},
   "outputs": [],
   "source": [
    "symmetric_encryption_key = get_random_bytes(16)\n",
    "with open(MESSAGE_PATH, \"r\") as file:\n",
    "    message = file.read()\n",
    "\n",
    "# print(message)"
   ]
  },
  {
   "cell_type": "code",
   "execution_count": 10,
   "metadata": {},
   "outputs": [],
   "source": [
    "# Test encryption code:\n",
    "# CODE HERE:\n",
    "\n",
    "encrypted_message = symmetric_encryptor(message, symmetric_encryption_key)"
   ]
  },
  {
   "cell_type": "code",
   "execution_count": 11,
   "metadata": {},
   "outputs": [],
   "source": [
    "# Test decryption code:\n",
    "# CODE HERE:\n",
    "\n",
    "decrypted_message = symmetric_decryptor(encrypted_message, symmetric_encryption_key)"
   ]
  },
  {
   "cell_type": "code",
   "execution_count": 12,
   "metadata": {},
   "outputs": [
    {
     "name": "stdout",
     "output_type": "stream",
     "text": [
      "True\n"
     ]
    }
   ],
   "source": [
    "# Test verification code:\n",
    "# CODE HERE:\n",
    "\n",
    "print(symmetric_verifier(message, encrypted_message, symmetric_encryption_key))"
   ]
  },
  {
   "cell_type": "markdown",
   "metadata": {},
   "source": [
    "## Part 2: Asymmetric Cryptography"
   ]
  },
  {
   "cell_type": "markdown",
   "metadata": {},
   "source": [
    "After TinTin found how to use symmetric encryption using a key, he faced another problem! How to share a key with haddock without letting Roberto finds it?        "
   ]
  },
  {
   "cell_type": "markdown",
   "metadata": {},
   "source": [
    "Therefore, he decides to use an asymmetric crypto system.    \n",
    "help him to acheive his goal by writing a program which:"
   ]
  },
  {
   "cell_type": "code",
   "execution_count": 14,
   "metadata": {},
   "outputs": [],
   "source": [
    "def RSA_key_generator():\n",
    "    # write a code to generate a pair of private/public key using RSA\n",
    "    # CODE HERE:\n",
    "    \n",
    "    key = RSA.generate(RSA_KEY_SIZE)\n",
    "    private_key = key.export_key()\n",
    "    public_key = key.publickey().export_key()\n",
    "    return private_key, public_key\n",
    "    "
   ]
  },
  {
   "cell_type": "code",
   "execution_count": 15,
   "metadata": {},
   "outputs": [],
   "source": [
    "def asymmteric_encryptor(public_key:str, input_message:str):\n",
    "    # write a code to encrypt an input message using your public key\n",
    "    # CODE HERE:\n",
    "\n",
    "    key = RSA.importKey(public_key)\n",
    "    cipher = PKCS1_OAEP.new(key)\n",
    "    cipher_text = cipher.encrypt(input_message.encode('utf-8'))\n",
    "    return cipher_text"
   ]
  },
  {
   "cell_type": "code",
   "execution_count": 16,
   "metadata": {},
   "outputs": [],
   "source": [
    "def asymmteric_decryptor(private_key:str, ciphertext:str):\n",
    "    # write a code to decrypt a ciphertext using your private key\n",
    "    # CODE HERE:\n",
    "\n",
    "    key = RSA.importKey(private_key)\n",
    "    cipher = PKCS1_OAEP.new(key)\n",
    "    plain_text = cipher.decrypt(ciphertext)\n",
    "    return plain_text.decode('utf-8')"
   ]
  },
  {
   "cell_type": "code",
   "execution_count": 17,
   "metadata": {},
   "outputs": [],
   "source": [
    "def asymmetric_verifier(plaintext:str, ciphertext:str, private_key:str):\n",
    "    # Verify the correctness of the decryption process by\n",
    "    # comparing the original message with the decrypted message.\n",
    "    # output should be boolean(ture or false)\n",
    "    # CODE HERE:\n",
    "    \n",
    "    decrypted_text = asymmteric_decryptor(private_key, ciphertext)\n",
    "    return decrypted_text == plaintext"
   ]
  },
  {
   "cell_type": "markdown",
   "metadata": {},
   "source": [
    "Now test your functions by encrypting & decrypting the symmetric key of previous part using new asymmetric functions."
   ]
  },
  {
   "cell_type": "markdown",
   "metadata": {},
   "source": [
    "First we generate the keys"
   ]
  },
  {
   "cell_type": "code",
   "execution_count": 18,
   "metadata": {},
   "outputs": [],
   "source": [
    "private_key, public_key = RSA_key_generator()"
   ]
  },
  {
   "cell_type": "code",
   "execution_count": 27,
   "metadata": {},
   "outputs": [],
   "source": [
    "# Test encryption code:\n",
    "# CODE HERE:\n",
    "\n",
    "encrypted_message = asymmteric_encryptor(public_key, str(symmetric_encryption_key))"
   ]
  },
  {
   "cell_type": "code",
   "execution_count": 29,
   "metadata": {},
   "outputs": [],
   "source": [
    "# Test decryption code:\n",
    "# CODE HERE:\n",
    "\n",
    "decrypted_message = asymmteric_decryptor(private_key, encrypted_message)"
   ]
  },
  {
   "cell_type": "code",
   "execution_count": 30,
   "metadata": {},
   "outputs": [
    {
     "name": "stdout",
     "output_type": "stream",
     "text": [
      "True\n"
     ]
    }
   ],
   "source": [
    "# Test verification code:\n",
    "# CODE HERE:\n",
    "\n",
    "print(asymmetric_verifier(str(symmetric_encryption_key), encrypted_message, private_key))"
   ]
  },
  {
   "cell_type": "markdown",
   "metadata": {},
   "source": [
    "## Part 3: Digital signature"
   ]
  },
  {
   "cell_type": "markdown",
   "metadata": {},
   "source": [
    "Write a function to sign a given message in the text file (Confidentail message) using private key which was made in the part 2.   \n",
    "You have to sign the hash of the message, not the whole message (why?). (Use SHA-256 for hashing)\n",
    "\n",
    "1. `Data Size Limitation:`<br>\n",
    "\n",
    "    RSA operations work with integers modulo a given integer (the modulus, part of the public key). The size of the modulus determines the maximum data size that RSA can handle. By hashing the message, we reduce its size to fit within the RSA limits.\n",
    "\n",
    "2. `Security Considerations:`<br>\n",
    "\n",
    "    - An adversary could manipulate the message and adopt the signature by swapping or dropping sub-messages. Hashing prevents this vulnerability.\n",
    "\n",
    "    - An adversary can randomly choose a signature and compute a corresponding message m. Hashing and padding prevent such forgeries.\n",
    "\n",
    "So we can say that hashing before signing ensures data fits within RSA limits and provides security guarantees against manipulation and forgery."
   ]
  },
  {
   "cell_type": "code",
   "execution_count": 49,
   "metadata": {},
   "outputs": [],
   "source": [
    "def sign_message(private_key:str, input_message: str):\n",
    "    # Write a code to sign a message using your private key.\n",
    "    # CODE HERE:\n",
    "    \n",
    "    digest = SHA256.new()\n",
    "    digest.update(input_message.encode('utf-8'))\n",
    "\n",
    "    key = RSA.importKey(private_key)\n",
    "\n",
    "    signer = PKCS1_v1_5.new(key)\n",
    "    message_signature = signer.sign(digest)\n",
    "    \n",
    "    return message_signature"
   ]
  },
  {
   "cell_type": "code",
   "execution_count": 53,
   "metadata": {},
   "outputs": [],
   "source": [
    "def message_verification(input_message:str, signature:str, public_key:str):\n",
    "    # Write a code to verify the signature of the input message\n",
    "    # output should be boolean(ture or false)\n",
    "    # CODE HERE:\n",
    "\n",
    "\n",
    "    digest = SHA256.new()\n",
    "    digest.update(input_message.encode('utf-8'))\n",
    "\n",
    "    key = RSA.importKey(public_key)\n",
    "    verifier = PKCS1_v1_5.new(key)\n",
    "    return verifier.verify(digest, signature)\n"
   ]
  },
  {
   "cell_type": "code",
   "execution_count": 54,
   "metadata": {},
   "outputs": [],
   "source": [
    "# Test sign code:\n",
    "# CODE HERE:\n",
    "\n",
    "signature = sign_message(private_key, message)"
   ]
  },
  {
   "cell_type": "code",
   "execution_count": 55,
   "metadata": {},
   "outputs": [
    {
     "name": "stdout",
     "output_type": "stream",
     "text": [
      "True\n"
     ]
    }
   ],
   "source": [
    "# Test verification code:\n",
    "# CODE HERE:\n",
    "\n",
    "print(message_verification(message, signature, public_key))"
   ]
  },
  {
   "cell_type": "markdown",
   "metadata": {},
   "source": [
    "## Q3."
   ]
  },
  {
   "cell_type": "markdown",
   "metadata": {},
   "source": [
    "- `MAC:`<br>\n",
    "\n",
    "1. A MAC is a small code that allows the receiver of a message to verify the authenticity of the sender.\n",
    "\n",
    "2. It is calculated using a message and a secret key as inputs.\n",
    "\n",
    "3. The sender generates the MAC, and the receiver can verify it using the same secret key.\n",
    "\n",
    "4. Commonly, a hash function (such as SHA-256) is used to create the MAC.\n",
    "\n",
    "- `HMAC:`<br>\n",
    "\n",
    "1. An HMAC is a specific kind of MAC.\n",
    "\n",
    "2. The main difference lies in the construction. HMAC uses two rounds of hashing (instead of one or none). Each round of hashing involves a section of the secret key.\n",
    "Example of HMAC calculation:\n",
    "\n",
    "HMAC enhances security by using double hashing and preventing length extension attacks."
   ]
  }
 ],
 "metadata": {
  "kernelspec": {
   "display_name": "Python 3",
   "language": "python",
   "name": "python3"
  },
  "language_info": {
   "codemirror_mode": {
    "name": "ipython",
    "version": 3
   },
   "file_extension": ".py",
   "mimetype": "text/x-python",
   "name": "python",
   "nbconvert_exporter": "python",
   "pygments_lexer": "ipython3",
   "version": "3.10.5"
  },
  "orig_nbformat": 4
 },
 "nbformat": 4,
 "nbformat_minor": 2
}
