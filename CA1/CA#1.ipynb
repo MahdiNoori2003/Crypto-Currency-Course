{
 "cells": [
  {
   "cell_type": "markdown",
   "metadata": {},
   "source": [
    "# <center>CryptoCurrencies CA#1<center>\n",
    "<h1><center>Introduction to Cryptography<center></h1>\n",
    "\n",
    "#### <center>\"Mahdi - Noori\"<center>"
   ]
  },
  {
   "cell_type": "markdown",
   "metadata": {},
   "source": [
    "## StoryLine:\n",
    "We have TinTin and Haddock on two seperate islands and they want to send messages to each other using morse codes!!    \n",
    "\n",
    "However, there is a problem over there. Roberto Rastapopoulos (Their enemy!) is listening to their conversation to figure out what they are saying to each other!    \n",
    "\n",
    "Now TinTin wants to use some encryption and decryption to ensure that Roberto couldn't understand what they are saying. Help TinTin to acheive his goal!"
   ]
  },
  {
   "cell_type": "markdown",
   "metadata": {},
   "source": [
    "## Imports:"
   ]
  },
  {
   "cell_type": "code",
   "execution_count": 5,
   "metadata": {},
   "outputs": [],
   "source": [
    "from Crypto.Cipher import AES\n",
    "from Crypto.Random import get_random_bytes"
   ]
  },
  {
   "cell_type": "markdown",
   "metadata": {},
   "source": [
    "## Part 1: Symmetric Cryptography\n",
    "\n"
   ]
  },
  {
   "cell_type": "markdown",
   "metadata": {},
   "source": [
    "**Important Note**: In all steps, use **AES-128** encryption method for encryption/decryption. You can use python cryptography libraries for this purpose."
   ]
  },
  {
   "cell_type": "markdown",
   "metadata": {},
   "source": [
    "TinTin decided to design a symmetirc encryption scheme for his connection with haddock. He asked you to design it for him using these steps:"
   ]
  },
  {
   "cell_type": "code",
   "execution_count": 65,
   "metadata": {},
   "outputs": [],
   "source": [
    "def symmetric_encryptor(input_message:str , key:str):\n",
    "    # Write a program to encrypt the given string input\n",
    "    # CODE HERE:\n",
    "\n",
    "    mode = AES.MODE_EAX\n",
    "    cipher = AES.new(key, mode)\n",
    "    cipher_text, tag = cipher.encrypt_and_digest(input_message.encode('utf-8'))\n",
    "\n",
    "    return cipher_text"
   ]
  },
  {
   "cell_type": "code",
   "execution_count": 71,
   "metadata": {},
   "outputs": [],
   "source": [
    "def symmetric_decryptor(input_ciphertext:str , key:str):\n",
    "    # Write a program to decrypt the given string input\n",
    "    # CODE HERE:\n",
    "    \n",
    "    mode = AES.MODE_EAX\n",
    "    cipher = AES.new(key, mode)\n",
    "    plain_text = cipher.decrypt(input_ciphertext)\n",
    "    print(plain_text)\n",
    "    \n",
    "    return plain_text.decode('utf-8')"
   ]
  },
  {
   "cell_type": "code",
   "execution_count": 72,
   "metadata": {},
   "outputs": [],
   "source": [
    "def symmetric_verifier(plaintext:str, ciphertext:str, key:str):\n",
    "    # Verify the correctness of the decryption process by\n",
    "    # comparing the original message with the decrypted message.\n",
    "    # output should be boolean(ture or false)\n",
    "    # CODE HERE:\n",
    "\n",
    "    decryptedtext = symmetric_decryptor(ciphertext, key)\n",
    "    return decryptedtext == plaintext"
   ]
  },
  {
   "cell_type": "markdown",
   "metadata": {},
   "source": [
    "Now test your functions by encrypting & decrypting the ((confidential-message.txt)) file."
   ]
  },
  {
   "cell_type": "markdown",
   "metadata": {},
   "source": [
    "First we generate a key for encryption and open the text file"
   ]
  },
  {
   "cell_type": "code",
   "execution_count": 73,
   "metadata": {},
   "outputs": [],
   "source": [
    "MESSAGE_PATH = \"Confidential-Message.txt\"\n",
    "\n",
    "symmetric_encryption_key = get_random_bytes(16)\n",
    "with open(MESSAGE_PATH, \"r\") as file:\n",
    "    message = file.read()\n",
    "\n",
    "# print(message)"
   ]
  },
  {
   "cell_type": "code",
   "execution_count": 74,
   "metadata": {},
   "outputs": [
    {
     "name": "stdout",
     "output_type": "stream",
     "text": [
      "b\"\\xcaArb/\\xc1\\x89\\x0bF\\xe8\\x95\\x07vZ\\x0e{9P\\xc3Pc\\xa5\\x17\\xc3\\x01\\x00a#\\xf4}W6\\xacLh\\xc6\\x17\\xa7&V\\xb6j.\\x17KD\\xef\\x07W\\xe8\\x0f\\xc4\\xa4\\x9d\\xa3\\xed\\x91\\x13\\xa2\\x8d\\xb8g\\xdb\\xf2\\xe7\\xa9\\xac<Ky\\xd9m\\x9d13\\xab,\\xbf\\x8bJ\\xeaE\\x0f\\xbe\\xb0\\xff\\x84`+\\xea\\xa9\\xb7\\xd0\\xb5\\xee\\x17\\xa4)\\x8a9%\\xe5Y\\xe5r\\xe9\\xd8H1\\x16\\xd9\\xcb\\xf9S^&\\xb03/$\\xbf\\x1a\\xce\\xe5%\\xb2\\\\\\xc3xj@\\xd9\\xd81R\\x1c:\\x94/]\\x82\\x13\\x9c\\xf0\\xd6\\xcd\\x8a\\x06\\x9b\\xdb\\x96\\x9fv\\xec\\xaa0\\xb6e\\x99\\x83\\x13\\xc1\\x8d\\xd4\\x9cQ\\x843^#\\xa0[\\xb3\\xec2!\\xc5J\\xe7\\x1c\\xd2u\\xe7\\x83\\xc3[y\\x10\\xabJ\\xcc#Ou[;\\xd7\\x13\\xd2\\xa6\\x92>\\xab\\xb6\\xbexrZ\\xe5\\x97\\x9e*\\xf7']\\x8c$\\x14\\xa7\\x7f\\xbaa\\xed`\\x17\\x0c\\x01t\\x10\\x96[>\\xae\\xc1\\x10\\x9f\\xab\\xb7WEV\\x8f3\\x92Qfg\\x9a\\\\\\xfa\\xf4\\x0b\\xaa\\t\\xed\\x1d\\x9a\\xed\\xcfq\\x10T\\x01\\xdd\\x9bo1`v#\\x1bQfnw}j\\xb3&\\x85\\xfbf\\xeca\\xc0`c\\xe9i3\\xf2N\\x84;=\\xd29\\x98;2\\x18%\\xee\\r|`8\\x87\\xa4\\x9d\\x02oR\\x15w\\x87\\x15A!\\xfb\\x8a/\\x17\\x0702\\x89\\x81s\\xf2\\xcf\\n\\xb4\\x8fE\\x08e\\xf239\\xe4u\\xf1\\x0c-\\xfe\\xa40\\xf2\\x99M\\xfd\\x19B\\x8a/\\xf1Pi\\xa1a5\\xad3CAu~\\xdfR%\\x1b\\xcd\\xe8X\\x99\\xbe\\xf7M\\x9c%\\xecF\\xe7\\x98[Q\\x04\\xfb\\xb9\\xd1\\xd5?\\x9c\\x17\\xad\\r!\\xd0\\x99\\xff\\xa7\\xf6{\\x0b-\\r~w\\xe5\\x9d\\x92~\\x87\\xde\\x0c\\xb1NA\\xa3\\xe5\\xac\\xb8Q\\x01#\\x0f$\\xa3>6\\xf9\\xb4\\xb9f\\xb9\\xfe\\xc1 \\xbb\\x01\\xaaE\\x84\\xae\\x82\\x86\\xcd\\x95\\x1f\\xb1\\xa7\\x84\\x84\\xa9\\xba\\xc9\\x7f4\\xc9\\r\\x837;Z\\xb3\\xb3\\x0e\\xf8\\xccf{\\xdf#\\x9e\\xa3l\\x84\\xd0\\xad\\xdd\\xbb\\xb8\\xd9\\xf3\\x882\\x06B\\x81:4\\x81)\\x9c[I\\xad6\\x07b\\x8b+\\t\\xe7\\xc7\\xfa\\xdf\\xe5\\xa5*\\xe4\\x04,\\xc9L\\x1f\\xdf\\xd6\\xde\\x0b].\\xac\\xba\\x97\\x8dPG\\x05\\x17#\\xfa\\xc6U>[\\xc6\\x1009\\x11x\\x1a\\xa5P\\xe1>D,B\\x9as\\xa1N\\xc5\\xde\\x0c\\xd2\\xe2\\xd4\\x1d\\xceS\\xfbSwK\\xb83\\xa8\\xb1\\xa6\\x8d\\x08\\x1c\\xfa\\x9f\\x11\\xf9<,K\\xf7P^\\xa0\\xc7\\x83M5\\\\)Waq'\\x88\\xa3*=\\xac\\x11x\\x10\\xb3)\\x15g\\x94`\\xdd\\xc9\\xab)\\xe6u\\xd6\\x83~m\\xb2\\x07\\xad\\x8d\\x8f\\xc2\\x84l\\x12p\\xeeA\\xe8\\xb9\\x9a8,\\x8cy\\x97\\xac\\x9a\\xf3\\xe8\\xbf\\x9ft\\xaa\\xb8^\\x80\\xeas\\x94\\x88T\\xc1\\xa4\\xa7$\\xf3\\xe1{,\\xe3S\\xf1<`\\xaav\\xbc\\xd1mX\\\\\\x1e\\x9a\\x87\\xc3\\xe1\\x9aE\\xdc\\x1e!\\x89ez!^\\x11\\x06\\x05\\x0b\\xeem\\xa1\\xfb\\xdf\\x97\\x1a2\\xf9\\x82\\x95\\xea\\x10Y\\xc6\\xb5\\x054\\xd9\\x969{}Hl\\xfc\\x8bz<v\\x95\\xf3>w\\xb4\\xb7\\xd1t\\xa1\\xd1\\xfa\\xe6\\x9cgl\\x15\\xc0~\\xbbl\\xd6\\x8e\\xff\\xe8\\xe4\\xdfL\\x0c\\xa3\\x1f$\\xb1\\x91\\x1e\\xca\\xc1\\xafs\\x0b\\xc4\\xd8Tm\\x8f\\xcbd\\xae\\xc3p\\x0fj\\xb9\\xd3X\\xe0\\xf5\\xb0\\x99WW\\xd1J\\t\\x8eH\\xb9\\x8e\\xde\\x19\\x18z\\x9f\\xf5=\\xee\\xcf\\xda\\xce\\xf0_R\\xdd^\\xc2\\x08\\xf5\\xc9\\xf3\\xbb3\\xf8\\xa8\\x14\\xe9fF`\\x88\\x90\\xb3\\xc3\\x18\\xbbI\\xc3\\xf0Y\\xf8eJ\\xc7\\xdd\\xff\\xdb\\xed^\\xa0\\x88Fa\\xeeY\\xc8\\xe8\\xf17\\xd5\\x0b\\xdc2\\x0b\\xd4\\xd8Q\\x0c\\x05\\x83\\xe1;\"\n"
     ]
    }
   ],
   "source": [
    "# Test encryption code:\n",
    "# CODE HERE:\n",
    "encrypted_message = symmetric_encryptor(message, symmetric_encryption_key)\n",
    "print(encrypted_message)"
   ]
  },
  {
   "cell_type": "code",
   "execution_count": 75,
   "metadata": {},
   "outputs": [
    {
     "name": "stdout",
     "output_type": "stream",
     "text": [
      "b'\\xa1(\\x9a5.\\xc6KM\\xfd\\xf0\\xe8|C\\xff\\xba\\x87\\x1a\\x8b\\x1e\\xb7/\\xc7\\x90H9Mq\\xc8\\x9b\\xa4\\x9a\\x01\\x18m\\xa7\\xa0\\x9b\\xdb\\x1f\\x95\\xb4\\xb8\\x04\\xf9\\x06t\\xbb\\x0b\\x9a\\xe1-\\x8b\\x91A\\xbd\\xc5\\x9a\\xe3]w\\xac\\xc1e_\\x08*\\x97gs\"\\x00\\xcf\\\\\\x1d)\\xa5\\xda n\\xba\\xf2Nm\\x8a\\xbf0?6U\\xd6\\xde\\\\\\x8d\\x86\\xaaj\\xbfT\\x8d&\\x19\\xdfO\\xac\\x98M\\xd0\\xb7\\x96\\xdeG\\xf4\\xe2\\xce\\xe9\\xc0\\xde\\x00\\xe4W\\x86l\\x8f\\xfb\\xabZ\\x1c\\xd5\\x07\\x9e\\xef\\xe2\\xe9\\xbf\\x00\\x95\\xc1\\xd0F\\x08s\\x87\\xaa\\xd7\\xe6\\xd1#\\x02\\xca\\x19n\\xf3\\x83x\\x10\\x0c\\xe6;vZf*\\x17rD\\x0cV\\xd8\\xd4\\x86F\\xb6\\x1af\\xe8\\xc2\\x932\\xd8Rsn&F:\\xf4\\xd2!J\\x8e^z9z;\\xf3P\\x91|\\x94\\xe0X\\xc2\\x87\\xf3\\xa9S\\xf0\\xdaQ\\xd1\\xd1\"\\xbf\\xeav=\\x17\\x8a{N\\x13\\xbd^\\xe8\\xa8Nbi$\\x16*k\\xf7R#z,-_\\xe6:c\\x89\\x93\\xc2\\xe3vz\\xc3s\\xe9\\x89\\n\\x9d\\xde\\xb8~z_\\xa9\\xeb\\xaa\\xda\\x04k\\xe5Z\\x9e7\\xd0+\\xdfQb\\xc2R\\xc2_\\xa8M\\x1f\\x91P\\x87\\xba\\xa0\\xdb\\x8b\\x90\\xfb!\\xb5Z\\xfa\\\\\\xb7\\xd7\\xcf\\xf2R\\xd4]\\x96\\x11=\\xd5\\x99W\\xdc\\x7f)\\x8e\\x131\\xbd\\xff@>\\xe6\\x80\\xfa\\xc1e\\x93|\\x17yXh\\x15\\x92\\x95O:\\xe8\\xc6\\x9d\\xacy_\\xd8^6f\\xc0\\x94\\n\\x95\\xbf\\xf2\\xe4M\\xd9g0\\x1f\\x8a\\xae0\\x14\\x9eW\\xa1&pO\\xf9\\xa6\\xc3\\r \\xfc\\xa7\\x90P\\xa0\\xeb\\x87\\x82\\x18F\\xee\\xd7\\x9d\\xf2\\t\\x0b\\xd3\\xf92ttU\\x90\\xcf\\xfc\\x07\\xfcv\\xd4G\\xa6m\\xd0\\x8f\\xc6h\\x86w\\xd4\\xe0\\xac\\xcf}\\xbb\\xf6\\xfe\\xfd\\xf6\\xfb`\\xd2\\x19\\x8a\\xf2P\\x86a\\x0b\\x0e;\\x93dY\\x1e\\x8a5\\xb3\\x01\\xf1\\x87\\x83TP\\xfd\\xcc\\xf6\\xd7^\\xfe\\xec\"\\n\\xfb\\x0b.\\xd4\\xf5\\xe5\\xf70O\\xb0\\x85#\\x86\\x1c\\x80j\\xa9]>\\xf0[_\\x06\\r\\x14f\\xbc\\xef\\xb8\\xcd*\\xf1\\xd3 \\x84\\'$\\xe9\\xf3\\x91\\x97\\x10\\x0f\\xc4\\xfa\\xc7\\x88\\xef\"\\x12\\xb76\\xe6k7z\\xa9\\xfa(\\x116\\xb7\\xbc\\xfaaen\\xf8\\xae#,\\x07e\\x05\\x92\\xad\\x1f\\x19\\xd0\\xd5\\xe4X\\xf3}\\x8b\\x83@\\x87T\\xf9\\xe4\\xb4C\\xb7\\x05\\x89\\x06\\xa7mQ\\xdeW~\\xab\\xca\\xa6\\xa8Q\\xdd\\xedD\\x06\\x0f\\xc4\\xaaN\\xa2|\\xf2\\x11\\xa4\\xad\\x01&%=\\x91C\\x1bG\\xc5\\xd0\\xc0\\\\\\xceH\\x93\\xbd9\\xf2~\\xc5YV\\x04!\\xdb\\n\\x7f\\xc5>]\\xd8\\x07\\xdbX:+\\x9c\\x83\\x1e\\xed!CD\\xd5\\xe9\\xdb2\\x01\\x8d\\x0e\\xc4>\\x8d\\x18\\xb7\\x9bk\\xcb\\xcf\\x9e3\\xb0\\xda\\xa0\\x81F\\x06<\\x8d\\x0c\\xa2\\xe2t\\x02E\\x9e\\xad\\xf6V%]\\r\\xf3\\xe5\\xa3\\xa4`\\xc2\\xa2T\\xea\\xb6\\xda\\x18\\xdd,Z\\x9f\\\\Q\\x916\\x98\\xa7[S`\\xb4)\\xaby\\x95\\xf7^\\xdaHt9\\x98%0\\x91\\x91\\xa4\\x1e\\x05\\xfa`CeP\\x05\\xbb\\x18F\\x07x\\x04.\\xe9\\xd4%\\xcf\\xccS\\x12\\xfa\\xef\\x7f5<\\xc0\\xe85\\x18\\xab\\xd1+\\xdb.\\xeb\\x0bg\\xbe\\xcbE9(\\xf7\\xe9\\xd4\\x1dh\\x7f\\x15\\xd1\\xd6\\x93+\\x19\\x05\\xb6{\\xbal\\xe23\\xa6k\\xd0\\xd2\\xc6\\xf8\\x8f\\xcd#\\xb4\\x0f+\\x10]F\\xf3.\\xc9\\xed\\x08%%\\xa1R\\x02\\x84\\x99}\\x92K\\xd6\\x8c\\x15{\\x15A=,\\xf4\\xf6a?\\xd6\\xe9P\\x84\\xd8\\xa7\\xe07\\xfc\\xb1\\xfd-a\\xb1\\x7f\\x81\\xe5PB\\xc4%]W\\x1b\\x88\\x017z\\x0c}cK\\x8d\\xf3Y\\xb6v1e\\x15\\xfe\\x1f\\xeaBH\\xb5\\xea\\x0f:~\\x9fl\\x11\\x16\\xda\\x82\\x05c\\xdb.'\n"
     ]
    },
    {
     "ename": "UnicodeDecodeError",
     "evalue": "'utf-8' codec can't decode byte 0xa1 in position 0: invalid start byte",
     "output_type": "error",
     "traceback": [
      "\u001b[1;31m---------------------------------------------------------------------------\u001b[0m",
      "\u001b[1;31mUnicodeDecodeError\u001b[0m                        Traceback (most recent call last)",
      "Cell \u001b[1;32mIn[75], line 3\u001b[0m\n\u001b[0;32m      1\u001b[0m \u001b[38;5;66;03m# Test decryption code:\u001b[39;00m\n\u001b[0;32m      2\u001b[0m \u001b[38;5;66;03m# CODE HERE:\u001b[39;00m\n\u001b[1;32m----> 3\u001b[0m decrypted_message \u001b[38;5;241m=\u001b[39m \u001b[43msymmetric_decryptor\u001b[49m\u001b[43m(\u001b[49m\u001b[43mencrypted_message\u001b[49m\u001b[43m,\u001b[49m\u001b[43m \u001b[49m\u001b[43msymmetric_encryption_key\u001b[49m\u001b[43m)\u001b[49m\n\u001b[0;32m      4\u001b[0m \u001b[38;5;28mprint\u001b[39m(decrypted_message)\n",
      "Cell \u001b[1;32mIn[71], line 10\u001b[0m, in \u001b[0;36msymmetric_decryptor\u001b[1;34m(input_ciphertext, key)\u001b[0m\n\u001b[0;32m      7\u001b[0m plain_text \u001b[38;5;241m=\u001b[39m cipher\u001b[38;5;241m.\u001b[39mdecrypt(input_ciphertext)\n\u001b[0;32m      8\u001b[0m \u001b[38;5;28mprint\u001b[39m(plain_text)\n\u001b[1;32m---> 10\u001b[0m \u001b[38;5;28;01mreturn\u001b[39;00m \u001b[43mplain_text\u001b[49m\u001b[38;5;241;43m.\u001b[39;49m\u001b[43mdecode\u001b[49m\u001b[43m(\u001b[49m\u001b[38;5;124;43m'\u001b[39;49m\u001b[38;5;124;43mutf-8\u001b[39;49m\u001b[38;5;124;43m'\u001b[39;49m\u001b[43m)\u001b[49m\n",
      "\u001b[1;31mUnicodeDecodeError\u001b[0m: 'utf-8' codec can't decode byte 0xa1 in position 0: invalid start byte"
     ]
    }
   ],
   "source": [
    "# Test decryption code:\n",
    "# CODE HERE:\n",
    "decrypted_message = symmetric_decryptor(encrypted_message, symmetric_encryption_key)\n",
    "print(decrypted_message)"
   ]
  },
  {
   "cell_type": "code",
   "execution_count": 58,
   "metadata": {},
   "outputs": [
    {
     "ename": "NameError",
     "evalue": "name 'verification' is not defined",
     "output_type": "error",
     "traceback": [
      "\u001b[1;31m---------------------------------------------------------------------------\u001b[0m",
      "\u001b[1;31mNameError\u001b[0m                                 Traceback (most recent call last)",
      "Cell \u001b[1;32mIn[58], line 3\u001b[0m\n\u001b[0;32m      1\u001b[0m \u001b[38;5;66;03m# Test verification code:\u001b[39;00m\n\u001b[0;32m      2\u001b[0m \u001b[38;5;66;03m# CODE HERE:\u001b[39;00m\n\u001b[1;32m----> 3\u001b[0m \u001b[38;5;28mprint\u001b[39m(\u001b[43mverification\u001b[49m(message, encrypted_message, symmetric_encryption_key))\n",
      "\u001b[1;31mNameError\u001b[0m: name 'verification' is not defined"
     ]
    }
   ],
   "source": [
    "# Test verification code:\n",
    "# CODE HERE:\n",
    "print(verification(message, encrypted_message, symmetric_encryption_key))"
   ]
  },
  {
   "cell_type": "markdown",
   "metadata": {},
   "source": [
    "## Part 2: Asymmetric Cryptography"
   ]
  },
  {
   "cell_type": "markdown",
   "metadata": {},
   "source": [
    "After TinTin found how to use symmetric encryption using a key, he faced another problem! How to share a key with haddock without letting Roberto finds it?        "
   ]
  },
  {
   "cell_type": "markdown",
   "metadata": {},
   "source": [
    "Therefore, he decides to use an asymmetric crypto system.    \n",
    "help him to acheive his goal by writing a program which:"
   ]
  },
  {
   "cell_type": "code",
   "execution_count": 16,
   "metadata": {},
   "outputs": [
    {
     "ename": "SyntaxError",
     "evalue": "unexpected EOF while parsing (3746756948.py, line 6)",
     "output_type": "error",
     "traceback": [
      "\u001b[1;36m  Cell \u001b[1;32mIn [16], line 6\u001b[1;36m\u001b[0m\n\u001b[1;33m    \u001b[0m\n\u001b[1;37m    ^\u001b[0m\n\u001b[1;31mSyntaxError\u001b[0m\u001b[1;31m:\u001b[0m unexpected EOF while parsing\n"
     ]
    }
   ],
   "source": [
    "def RSA_key_generator():\n",
    "    # write a code to generate a pair of private/public key using RSA\n",
    "    # CODE HERE:\n",
    "    \n",
    "    \n",
    "    "
   ]
  },
  {
   "cell_type": "code",
   "execution_count": 20,
   "metadata": {},
   "outputs": [
    {
     "ename": "SyntaxError",
     "evalue": "unexpected EOF while parsing (2954261447.py, line 1)",
     "output_type": "error",
     "traceback": [
      "\u001b[1;36m  Cell \u001b[1;32mIn [20], line 1\u001b[1;36m\u001b[0m\n\u001b[1;33m    def asymmteric_encryptor(private_key, input_message):\u001b[0m\n\u001b[1;37m                                                         ^\u001b[0m\n\u001b[1;31mSyntaxError\u001b[0m\u001b[1;31m:\u001b[0m unexpected EOF while parsing\n"
     ]
    }
   ],
   "source": [
    "def asymmteric_encryptor(private_key:str, input_message:str):\n",
    "    # write a code to encrypt an input message using your private key\n",
    "    # CODE HERE:"
   ]
  },
  {
   "cell_type": "code",
   "execution_count": null,
   "metadata": {},
   "outputs": [],
   "source": [
    "def asymmteric_decryptor(public_key:str, ciphertext:str):\n",
    "    # write a code to decrypt a ciphertext using your private key\n",
    "    # CODE HERE:\n",
    "    "
   ]
  },
  {
   "cell_type": "code",
   "execution_count": 21,
   "metadata": {},
   "outputs": [
    {
     "ename": "SyntaxError",
     "evalue": "unexpected EOF while parsing (1017752306.py, line 6)",
     "output_type": "error",
     "traceback": [
      "\u001b[1;36m  Cell \u001b[1;32mIn [21], line 6\u001b[1;36m\u001b[0m\n\u001b[1;33m    \u001b[0m\n\u001b[1;37m    ^\u001b[0m\n\u001b[1;31mSyntaxError\u001b[0m\u001b[1;31m:\u001b[0m unexpected EOF while parsing\n"
     ]
    }
   ],
   "source": [
    "def symmetric_verifier(plaintext:str, ciphertext:str, public_key:str):\n",
    "    # Verify the correctness of the decryption process by\n",
    "    # comparing the original message with the decrypted message.\n",
    "    # output should be boolean(ture or false)\n",
    "    # CODE HERE:\n",
    "    "
   ]
  },
  {
   "cell_type": "markdown",
   "metadata": {},
   "source": [
    "Now test your functions by encrypting & decrypting the ((confidential-message.txt)) file again using new asummetric functions."
   ]
  },
  {
   "cell_type": "code",
   "execution_count": null,
   "metadata": {},
   "outputs": [],
   "source": [
    "# Test encryption code:\n",
    "# CODE HERE:\n"
   ]
  },
  {
   "cell_type": "code",
   "execution_count": null,
   "metadata": {},
   "outputs": [],
   "source": [
    "# Test decryption code:\n",
    "# CODE HERE:\n"
   ]
  },
  {
   "cell_type": "code",
   "execution_count": null,
   "metadata": {},
   "outputs": [],
   "source": [
    "# Test verification code:\n",
    "# CODE HERE:\n"
   ]
  },
  {
   "cell_type": "markdown",
   "metadata": {},
   "source": [
    "## Part 3: Digital signature"
   ]
  },
  {
   "cell_type": "markdown",
   "metadata": {},
   "source": [
    "Write a function to sign a given message in the text file (Confidentail message) using private key which was made in the part 2.   \n",
    "You have to sign the hash of the message, not the whole message (why?). (Use SHA-256 for hashing)"
   ]
  },
  {
   "cell_type": "code",
   "execution_count": null,
   "metadata": {},
   "outputs": [],
   "source": [
    "def sign_message(private_key:str, input_message: str):\n",
    "    # Write a code to sign a message using your private key.\n",
    "    # CODE HERE:\n",
    "    \n",
    "    \n",
    "    \n",
    "    return message_signature"
   ]
  },
  {
   "cell_type": "code",
   "execution_count": null,
   "metadata": {},
   "outputs": [],
   "source": [
    "def message_verification(input_message:str, signature:str, public_key:str):\n",
    "    # Write a code to verify the signature of the input message\n",
    "    # output should be boolean(ture or false)\n"
   ]
  }
 ],
 "metadata": {
  "kernelspec": {
   "display_name": "Python 3",
   "language": "python",
   "name": "python3"
  },
  "language_info": {
   "codemirror_mode": {
    "name": "ipython",
    "version": 3
   },
   "file_extension": ".py",
   "mimetype": "text/x-python",
   "name": "python",
   "nbconvert_exporter": "python",
   "pygments_lexer": "ipython3",
   "version": "3.10.5"
  },
  "orig_nbformat": 4
 },
 "nbformat": 4,
 "nbformat_minor": 2
}
