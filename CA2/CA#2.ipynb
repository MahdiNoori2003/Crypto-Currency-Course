{
 "cells": [
  {
   "cell_type": "markdown",
   "metadata": {},
   "source": [
    "# <center>CryptoCurrencies CA#2<center>\n",
    "<h1><center>Transacting on Bitcoin TestNet / Firing up an Ethereum Node<center></h1>\n",
    "\n",
    "#### <center>\"Mahdi - Noori\"<center>\n",
    "#### <center>\"810100231\"<center>"
   ]
  },
  {
   "cell_type": "markdown",
   "metadata": {},
   "source": [
    "## Imports"
   ]
  },
  {
   "cell_type": "code",
   "execution_count": 1,
   "metadata": {},
   "outputs": [],
   "source": [
    "import hashlib\n",
    "import base58\n",
    "import codecs\n",
    "import os\n",
    "import ecdsa\n",
    "import secrets\n",
    "import bitcoin"
   ]
  },
  {
   "cell_type": "markdown",
   "metadata": {},
   "source": [
    "### 1. Address Generation:"
   ]
  },
  {
   "cell_type": "markdown",
   "metadata": {},
   "source": [
    " 1.1: Base58 and WIF address"
   ]
  },
  {
   "cell_type": "code",
   "execution_count": 2,
   "metadata": {},
   "outputs": [],
   "source": [
    "def private_key_to_wif(private_key):\n",
    "\n",
    "    # Add testnet prefix to the private key\n",
    "    private_key = b'\\xef' + private_key\n",
    "    \n",
    "    sha256 = hashlib.sha256(private_key).digest()    \n",
    "    sha256 = hashlib.sha256(sha256).digest()    \n",
    "    checksum = sha256[:4]    \n",
    "    private_key = private_key + checksum\n",
    "    \n",
    "    wif_private_key = base58.b58encode(private_key)\n",
    "    return wif_private_key.decode('utf-8')\n",
    "\n",
    "def generate_testnet_address():\n",
    "    private_key = secrets.token_bytes(32)    \n",
    "    wif_private_key = private_key_to_wif(private_key)\n",
    "    \n",
    "    public_key = ecdsa.SigningKey.from_string(private_key, curve=ecdsa.SECP256k1).verifying_key\n",
    "    if public_key is None:\n",
    "        raise ValueError(\"Invalid public key\")\n",
    "    \n",
    "    public_key = (b\"\\x04\" + public_key.to_string()) \n",
    "    \n",
    "    sha256 = hashlib.sha256(public_key).digest()\n",
    "    ripemd160 = hashlib.new(\"ripemd160\")\n",
    "    ripemd160.update(sha256)\n",
    "    \n",
    "    # Add testnet prefix to the public key hash\n",
    "    public_key = b'\\x6f' + ripemd160.digest()\n",
    "    \n",
    "    sha256_1 = hashlib.sha256(public_key).digest()\n",
    "    sha256_2 = hashlib.sha256(sha256_1).digest()    \n",
    "    checksum = sha256_2[:4]\n",
    "    \n",
    "    public_key = public_key + checksum\n",
    "    address = base58.b58encode(public_key)\n",
    "    \n",
    "    return address.decode('utf-8'), wif_private_key"
   ]
  },
  {
   "cell_type": "code",
   "execution_count": 3,
   "metadata": {},
   "outputs": [
    {
     "name": "stdout",
     "output_type": "stream",
     "text": [
      "WIF Private Key: 91mM5mjYb5QpAtSVBx1n2Uaj9XyM4Wfj87g9Vqwd1YnEkswHw4w\n",
      "Address: mx6bnbmqcpcL8xTtqCnrwARmyBexsSAquJ\n"
     ]
    }
   ],
   "source": [
    "address, wif_private_key = generate_testnet_address()\n",
    "\n",
    "print(\"WIF Private Key:\", wif_private_key)\n",
    "print(\"Address:\", address)"
   ]
  },
  {
   "cell_type": "markdown",
   "metadata": {},
   "source": [
    "The main difference between testnet and mainnet addresses lies in the networks they operate on and their purpose:\n",
    "\n",
    "1. **Mainnet Addresses**: Mainnet addresses are used in the Bitcoin main network. They represent real, live Bitcoin transactions and carry actual economic value. Mainnet addresses start with the number \"1\" for Pay to Public Key Hash (P2PKH) addresses and with the number \"3\" for Pay to Script Hash (P2SH) addresses.\n",
    "\n",
    "2. **Testnet Addresses**: Testnet addresses, on the other hand, are used in the Bitcoin test network (testnet). The testnet is a separate network that mimics the main network but is designed for testing and development purposes. Testnet addresses and testnet bitcoins have no value in the real-world economy and are used for experimentation, testing, and learning. Testnet addresses start with the letter \"m\" or \"n\" for P2PKH addresses and with the letters \"2\" or \"3\" for P2SH addresses.\n",
    "\n",
    "It's important to note that testnet and mainnet addresses are not compatible with each other. Testnet bitcoins cannot be used or transferred to mainnet addresses, and vice versa. They exist on separate networks to maintain the distinction between real economic transactions and testing environments."
   ]
  },
  {
   "cell_type": "markdown",
   "metadata": {},
   "source": [
    "1.2: Vanity Address Generator\n"
   ]
  },
  {
   "cell_type": "code",
   "execution_count": 4,
   "metadata": {},
   "outputs": [
    {
     "name": "stdout",
     "output_type": "stream",
     "text": [
      "Vanity Address n4ab8sWCxNgczrs3xZHwfNo5MjEbHfRRcA created after 91902 tries\n"
     ]
    }
   ],
   "source": [
    "def generate_vanity_address(prefix):\n",
    "    vanity_address = \"\"\n",
    "    number_of_tries = 0\n",
    "\n",
    "    while True:\n",
    "        address, _ = generate_testnet_address()\n",
    "        number_of_tries += 1\n",
    "        if address[1:].startswith(prefix):\n",
    "            vanity_address = address\n",
    "            break\n",
    "    return vanity_address, number_of_tries\n",
    "\n",
    "vanity_address, number_of_tries = generate_vanity_address(\"4ab\")\n",
    "print(f\"Vanity Address {vanity_address} created after {number_of_tries} tries\")    "
   ]
  },
  {
   "cell_type": "markdown",
   "metadata": {},
   "source": [
    "### 2. Transacting on Bitcoin TestNet:"
   ]
  },
  {
   "cell_type": "markdown",
   "metadata": {},
   "source": [
    "#### Utility Functions:"
   ]
  },
  {
   "cell_type": "code",
   "execution_count": 2,
   "metadata": {},
   "outputs": [],
   "source": [
    "import requests\n",
    "\n",
    "from bitcoin.core import b2x, lx, COIN, COutPoint, CMutableTxOut, CMutableTxIn, CMutableTransaction, Hash160\n",
    "from bitcoin.core.script import *\n",
    "from bitcoin.core.scripteval import VerifyScript, SCRIPT_VERIFY_P2SH\n",
    "\n",
    "def send_from_custom_transaction(amount_to_send, txid_to_spend, utxo_index, txin_scriptPubKey, txin_scriptSig, txout_scriptPubKey):\n",
    "    txout = create_txout(amount_to_send, txout_scriptPubKey)\n",
    "    txin = create_txin(txid_to_spend, utxo_index)\n",
    "    new_tx = create_signed_transaction(txin, txout, txin_scriptPubKey, txin_scriptSig)\n",
    "    return broadcast_transaction(new_tx)\n",
    "\n",
    "\n",
    "def create_txin(txid, utxo_index):\n",
    "    return CMutableTxIn(COutPoint(lx(txid), utxo_index))\n",
    "\n",
    "\n",
    "def create_txout(amount, scriptPubKey):\n",
    "    return CMutableTxOut(amount*COIN, CScript(scriptPubKey))\n",
    "\n",
    "\n",
    "def create_OP_CHECKSIG_signature(txin, txout, txin_scriptPubKey, seckey):\n",
    "    tx = CMutableTransaction([txin], txout)\n",
    "    sighash = SignatureHash(CScript(txin_scriptPubKey), tx, 0, SIGHASH_ALL)\n",
    "    sig = seckey.sign(sighash) + bytes([SIGHASH_ALL])\n",
    "    return sig\n",
    "\n",
    "\n",
    "def create_signed_transaction(txin, txout, txin_scriptPubKey, txin_scriptSig):\n",
    "    tx = CMutableTransaction([txin], txout)\n",
    "    txin.scriptSig = CScript(txin_scriptSig)\n",
    "    VerifyScript(txin.scriptSig, CScript(txin_scriptPubKey), tx, 0, (SCRIPT_VERIFY_P2SH,))\n",
    "    return tx\n",
    "\n",
    "\n",
    "def broadcast_transaction(tx):\n",
    "    raw_transaction = b2x(tx.serialize())\n",
    "    headers = {'content-type': 'application/x-www-form-urlencoded'}\n",
    "    return requests.post(\n",
    "        'https://api.blockcypher.com/v1/btc/test3/txs/push',\n",
    "        headers=headers,\n",
    "        data='{\"tx\": \"%s\"}' % raw_transaction,\n",
    "    )\n"
   ]
  },
  {
   "cell_type": "code",
   "execution_count": 3,
   "metadata": {},
   "outputs": [],
   "source": [
    "import bitcoin.wallet\n",
    "from bitcoin.core import COIN, b2lx, serialize, x, lx, b2x\n",
    "bitcoin.SelectParams(\"testnet\")\n",
    "\n",
    "def P2PKH_scriptPubKey(address):\n",
    "    return [OP_DUP, OP_HASH160, Hash160(address), OP_EQUALVERIFY, OP_CHECKSIG]\n",
    "\n",
    "\n",
    "def P2PKH_scriptSig(txin, txout, txin_scriptPubKey, private_key, public_key):\n",
    "\n",
    "    signature = create_OP_CHECKSIG_signature(txin, txout, txin_scriptPubKey, private_key)\n",
    "    return [signature, public_key]\n",
    "\n",
    "def print_response(response, address, public_key, private_key):\n",
    "    print(address)  # Prints your address in base58\n",
    "    print(public_key.hex())  # Print your public key in hex\n",
    "    print(private_key.hex())  # Print your private key in hex\n",
    "    print(response.status_code, response.reason)\n",
    "    print(response.text)  # Report the hash of transaction which is printed in this section result"
   ]
  },
  {
   "cell_type": "markdown",
   "metadata": {},
   "source": [
    "Now use the provided functions to make these transactions:"
   ]
  },
  {
   "cell_type": "markdown",
   "metadata": {},
   "source": [
    "Note that the first stream of bitcoins in the first place that we got from the faucet has txid of $$7990000f3f7276a3260d045b97d8c680f15e17d0e6f4f95e904986f82a8c55a6$$\n",
    "We recieved 0.006 coins here."
   ]
  },
  {
   "cell_type": "markdown",
   "metadata": {},
   "source": [
    "2.1: One input and two outputs transaction"
   ]
  },
  {
   "cell_type": "markdown",
   "metadata": {},
   "source": [
    "Here is the address that we use\n",
    "The private key is:\n",
    "$$ 91mM5mjYb5QpAtSVBx1n2Uaj9XyM4Wfj87g9Vqwd1YnEkswHw4w $$"
   ]
  },
  {
   "cell_type": "code",
   "execution_count": 4,
   "metadata": {},
   "outputs": [
    {
     "name": "stdout",
     "output_type": "stream",
     "text": [
      "My Address: mx6bnbmqcpcL8xTtqCnrwARmyBexsSAquJ\n"
     ]
    }
   ],
   "source": [
    "my_private_key = bitcoin.wallet.CBitcoinSecret(\"91mM5mjYb5QpAtSVBx1n2Uaj9XyM4Wfj87g9Vqwd1YnEkswHw4w\")\n",
    "my_public_key = my_private_key.pub\n",
    "my_address = bitcoin.wallet.P2PKHBitcoinAddress.from_pubkey(my_public_key)\n",
    "print(\"My Address:\", my_address)"
   ]
  },
  {
   "cell_type": "markdown",
   "metadata": {},
   "source": [
    "For the first transaction we set the fee 0.00045 and 0.0055 for free for all usage and 0.00005 for burning."
   ]
  },
  {
   "cell_type": "code",
   "execution_count": 6,
   "metadata": {},
   "outputs": [
    {
     "name": "stdout",
     "output_type": "stream",
     "text": [
      "mx6bnbmqcpcL8xTtqCnrwARmyBexsSAquJ\n",
      "04c6f372f079ebc9fb5fede0fa2d929471cfbc612feb92cf0d269ee5e47826c8b35aa758b6f0defbafc608acaa4f510279d963467fbd82491902fef478d6d8d4a5\n",
      "17ae8aa6337fa2e0e463904d77a44fcd9dd3005e6fa989875382604e74733fb5\n",
      "201 Created\n",
      "{\n",
      "  \"tx\": {\n",
      "    \"block_height\": -1,\n",
      "    \"block_index\": -1,\n",
      "    \"hash\": \"e9022c5923ad92a944ecb1f26048b549ba7197eabc699ce56e73e7b3c6ceb680\",\n",
      "    \"addresses\": [\n",
      "      \"mx6bnbmqcpcL8xTtqCnrwARmyBexsSAquJ\"\n",
      "    ],\n",
      "    \"total\": 555000,\n",
      "    \"fees\": 65000,\n",
      "    \"size\": 209,\n",
      "    \"vsize\": 209,\n",
      "    \"preference\": \"high\",\n",
      "    \"relayed_by\": \"104.244.77.108\",\n",
      "    \"received\": \"2024-05-25T19:03:02.041046113Z\",\n",
      "    \"ver\": 1,\n",
      "    \"double_spend\": false,\n",
      "    \"vin_sz\": 1,\n",
      "    \"vout_sz\": 2,\n",
      "    \"confirmations\": 0,\n",
      "    \"inputs\": [\n",
      "      {\n",
      "        \"prev_hash\": \"7990000f3f7276a3260d045b97d8c680f15e17d0e6f4f95e904986f82a8c55a6\",\n",
      "        \"output_index\": 0,\n",
      "        \"script\": \"473044022059e1596c967f2a9c1bad486ad9d7bc23a37c6b9b89e1f6950ba16668d191fb280220202922b9567ec3f31be704057a3baa3e7c094b5fc7560af83c269d3b851f1122014104c6f372f079ebc9fb5fede0fa2d929471cfbc612feb92cf0d269ee5e47826c8b35aa758b6f0defbafc608acaa4f510279d963467fbd82491902fef478d6d8d4a5\",\n",
      "        \"output_value\": 620000,\n",
      "        \"sequence\": 4294967295,\n",
      "        \"addresses\": [\n",
      "          \"mx6bnbmqcpcL8xTtqCnrwARmyBexsSAquJ\"\n",
      "        ],\n",
      "        \"script_type\": \"pay-to-pubkey-hash\",\n",
      "        \"age\": 2817413\n",
      "      }\n",
      "    ],\n",
      "    \"outputs\": [\n",
      "      {\n",
      "        \"value\": 5000,\n",
      "        \"script\": \"00\",\n",
      "        \"addresses\": null,\n",
      "        \"script_type\": \"unknown\"\n",
      "      },\n",
      "      {\n",
      "        \"value\": 550000,\n",
      "        \"script\": \"51\",\n",
      "        \"addresses\": null,\n",
      "        \"script_type\": \"unknown\"\n",
      "      }\n",
      "    ]\n",
      "  }\n",
      "}\n"
     ]
    }
   ],
   "source": [
    "# First Transaction\n",
    "\n",
    "def send_from_P2PKH_transaction_to_two_outputs(first_amount_to_send, second_amount_to_send, txid_to_spend, utxo_index):\n",
    "    first_txout = create_txout(first_amount_to_send, [OP_FALSE])\n",
    "    second_txout = create_txout(second_amount_to_send, [OP_TRUE])\n",
    "\n",
    "    txout = [first_txout, second_txout]\n",
    "    txin_scriptPubKey = P2PKH_scriptPubKey(my_public_key)\n",
    "    txin = create_txin(txid_to_spend, utxo_index)\n",
    "    txin_scriptSig = P2PKH_scriptSig(txin, txout, txin_scriptPubKey, my_private_key, my_public_key)\n",
    "\n",
    "    sig_tx = create_signed_transaction(txin, txout, txin_scriptPubKey, txin_scriptSig)\n",
    "\n",
    "    return broadcast_transaction(sig_tx)\n",
    "\n",
    "first_amount_to_send = 0.00005\n",
    "second_amount_to_send = 0.0055\n",
    "txid_to_spend = ('7990000f3f7276a3260d045b97d8c680f15e17d0e6f4f95e904986f82a8c55a6')\n",
    "utxo_index = 0\n",
    "print_response(send_from_P2PKH_transaction_to_two_outputs(first_amount_to_send, second_amount_to_send, txid_to_spend, utxo_index), my_address, my_public_key, my_private_key)"
   ]
  },
  {
   "cell_type": "markdown",
   "metadata": {},
   "source": [
    "For the second one we can send 0.0055 back and by setting the transaction fee to 0.00045 we can send back 0.00505 coins."
   ]
  },
  {
   "cell_type": "code",
   "execution_count": 8,
   "metadata": {},
   "outputs": [
    {
     "name": "stdout",
     "output_type": "stream",
     "text": [
      "mx6bnbmqcpcL8xTtqCnrwARmyBexsSAquJ\n",
      "04c6f372f079ebc9fb5fede0fa2d929471cfbc612feb92cf0d269ee5e47826c8b35aa758b6f0defbafc608acaa4f510279d963467fbd82491902fef478d6d8d4a5\n",
      "17ae8aa6337fa2e0e463904d77a44fcd9dd3005e6fa989875382604e74733fb5\n",
      "201 Created\n",
      "{\n",
      "  \"tx\": {\n",
      "    \"block_height\": -1,\n",
      "    \"block_index\": -1,\n",
      "    \"hash\": \"8e27cc9c57399ae487d1e3c2140fd642cbb38affa4bc9adea818c140ffdb7a5c\",\n",
      "    \"addresses\": [\n",
      "      \"mx6bnbmqcpcL8xTtqCnrwARmyBexsSAquJ\"\n",
      "    ],\n",
      "    \"total\": 505000,\n",
      "    \"fees\": 45000,\n",
      "    \"size\": 85,\n",
      "    \"vsize\": 85,\n",
      "    \"preference\": \"high\",\n",
      "    \"relayed_by\": \"104.244.77.108\",\n",
      "    \"received\": \"2024-05-26T07:43:41.092323413Z\",\n",
      "    \"ver\": 1,\n",
      "    \"double_spend\": false,\n",
      "    \"vin_sz\": 1,\n",
      "    \"vout_sz\": 1,\n",
      "    \"confirmations\": 0,\n",
      "    \"inputs\": [\n",
      "      {\n",
      "        \"prev_hash\": \"e9022c5923ad92a944ecb1f26048b549ba7197eabc699ce56e73e7b3c6ceb680\",\n",
      "        \"output_index\": 1,\n",
      "        \"output_value\": 550000,\n",
      "        \"sequence\": 4294967295,\n",
      "        \"script_type\": \"unknown\",\n",
      "        \"age\": 2817766\n",
      "      }\n",
      "    ],\n",
      "    \"outputs\": [\n",
      "      {\n",
      "        \"value\": 505000,\n",
      "        \"script\": \"76a914b5df0942adc5f69fb5a406ba2a0b2f61fc80997d88ac\",\n",
      "        \"addresses\": [\n",
      "          \"mx6bnbmqcpcL8xTtqCnrwARmyBexsSAquJ\"\n",
      "        ],\n",
      "        \"script_type\": \"pay-to-pubkey-hash\"\n",
      "      }\n",
      "    ]\n",
      "  }\n",
      "}\n"
     ]
    }
   ],
   "source": [
    "# Second Transaction\n",
    "\n",
    "def send_P2PKH_tx_that_anyone_can_spend(amount_to_spend, txid_to_spend, utxo_index, txout_scriptPubKey):\n",
    "    txout = create_txout(amount_to_spend, txout_scriptPubKey)\n",
    "    txin = create_txin(txid_to_spend, utxo_index)\n",
    "\n",
    "    txin_scriptPubKey = [OP_TRUE]\n",
    "    txin_scriptSig = []\n",
    "    sig_tx = create_signed_transaction(txin, [txout], txin_scriptPubKey, txin_scriptSig)\n",
    "\n",
    "    return broadcast_transaction(sig_tx)\n",
    "\n",
    "amount_to_send = 0.00505\n",
    "txid_to_spend = ('e9022c5923ad92a944ecb1f26048b549ba7197eabc699ce56e73e7b3c6ceb680')\n",
    "utxo_index = 1\n",
    "txout_scriptPubKey = P2PKH_scriptPubKey(my_public_key)\n",
    "print_response(send_P2PKH_tx_that_anyone_can_spend(amount_to_send, txid_to_spend, utxo_index, txout_scriptPubKey), my_address, my_public_key, my_private_key)"
   ]
  },
  {
   "cell_type": "markdown",
   "metadata": {},
   "source": [
    "As you can see in first transaction by setting one of outputs to ```OP_TRUE``` anyone can spend the amount and setting the other one to ```OP_FALSE``` no one can spend it.\n",
    "<br><br> In the second one we send the spendable amount in first part to our account. Notice that for using it we are not use any signatures because it is open to all.   "
   ]
  },
  {
   "cell_type": "markdown",
   "metadata": {},
   "source": [
    "2.2: Pay to MultiSig transaction (P2MS)\n"
   ]
  },
  {
   "cell_type": "markdown",
   "metadata": {},
   "source": [
    "First we generate the addresses"
   ]
  },
  {
   "cell_type": "code",
   "execution_count": 6,
   "metadata": {},
   "outputs": [
    {
     "name": "stdout",
     "output_type": "stream",
     "text": [
      "WIF Private Key: 92D2hRT2V851obvrW7TKP2ffGn7DVd8EE682n6YgzG6tubh36sD\n",
      "Address: msTsTugBoWn8HftMNEGPzzhrq1XfPur5B1\n",
      "WIF Private Key: 92gSw5M4ZwR8yeRLMuEFRBmLgTjxV7RtySSnDHRbEU3R8nC6kkG\n",
      "Address: mw9AE5jCA2q5LMjvoPKyFc569CPsh2qeoe\n",
      "WIF Private Key: 93Ks9oD5QTkBKJnxy5aYE4Fu3uABzksJsLwpRDx9weXaLerz7T3\n",
      "Address: n1zHy3YwR3FqKXuK9dLy4jBVBBfcjj4jzq\n"
     ]
    }
   ],
   "source": [
    "private_keys = []\n",
    "\n",
    "for i in range(3):\n",
    "    address, wif_private_key = generate_testnet_address()\n",
    "\n",
    "    print(\"WIF Private Key:\", wif_private_key)\n",
    "    private_keys.append(wif_private_key)\n",
    "    print(\"Address:\", address)"
   ]
  },
  {
   "cell_type": "code",
   "execution_count": 7,
   "metadata": {},
   "outputs": [],
   "source": [
    "private_key1= bitcoin.wallet.CBitcoinSecret('92D2hRT2V851obvrW7TKP2ffGn7DVd8EE682n6YgzG6tubh36sD')\n",
    "public_key1 = private_key1.pub\n",
    "\n",
    "private_key2 = bitcoin.wallet.CBitcoinSecret('92gSw5M4ZwR8yeRLMuEFRBmLgTjxV7RtySSnDHRbEU3R8nC6kkG')\n",
    "public_key2 = private_key2.pub\n",
    "\n",
    "private_key3 = bitcoin.wallet.CBitcoinSecret('93Ks9oD5QTkBKJnxy5aYE4Fu3uABzksJsLwpRDx9weXaLerz7T3')\n",
    "public_key3 = private_key3.pub"
   ]
  },
  {
   "cell_type": "markdown",
   "metadata": {},
   "source": [
    "From the previous part we have 0.00505 coins. given the 0.00045 fee we can send 0.0046 coins here."
   ]
  },
  {
   "cell_type": "code",
   "execution_count": 9,
   "metadata": {},
   "outputs": [
    {
     "name": "stdout",
     "output_type": "stream",
     "text": [
      "mx6bnbmqcpcL8xTtqCnrwARmyBexsSAquJ\n",
      "04c6f372f079ebc9fb5fede0fa2d929471cfbc612feb92cf0d269ee5e47826c8b35aa758b6f0defbafc608acaa4f510279d963467fbd82491902fef478d6d8d4a5\n",
      "17ae8aa6337fa2e0e463904d77a44fcd9dd3005e6fa989875382604e74733fb5\n",
      "201 Created\n",
      "{\n",
      "  \"tx\": {\n",
      "    \"block_height\": -1,\n",
      "    \"block_index\": -1,\n",
      "    \"hash\": \"0a57b593553ec4bda3057289027ee5a4e8e282c5128751d8b4872c24acf98abf\",\n",
      "    \"addresses\": [\n",
      "      \"mx6bnbmqcpcL8xTtqCnrwARmyBexsSAquJ\",\n",
      "      \"zNNG7fpaMaAMAbuCkJFkHv4GEGso36hJRp\"\n",
      "    ],\n",
      "    \"total\": 460000,\n",
      "    \"fees\": 45000,\n",
      "    \"size\": 400,\n",
      "    \"vsize\": 400,\n",
      "    \"preference\": \"high\",\n",
      "    \"relayed_by\": \"104.244.77.108\",\n",
      "    \"received\": \"2024-05-26T14:09:27.966519587Z\",\n",
      "    \"ver\": 1,\n",
      "    \"double_spend\": false,\n",
      "    \"vin_sz\": 1,\n",
      "    \"vout_sz\": 1,\n",
      "    \"confirmations\": 0,\n",
      "    \"inputs\": [\n",
      "      {\n",
      "        \"prev_hash\": \"8e27cc9c57399ae487d1e3c2140fd642cbb38affa4bc9adea818c140ffdb7a5c\",\n",
      "        \"output_index\": 0,\n",
      "        \"script\": \"4830450221008d4c26e3abb4eebc17b80eb9309295d3040391d9515fe7377e77d9fdbba46485022031e76d5b8d0bb818f8c3a6bb2d362b8902bc79a56aee011a1eb61ce85db2289d014104c6f372f079ebc9fb5fede0fa2d929471cfbc612feb92cf0d269ee5e47826c8b35aa758b6f0defbafc608acaa4f510279d963467fbd82491902fef478d6d8d4a5\",\n",
      "        \"output_value\": 505000,\n",
      "        \"sequence\": 4294967295,\n",
      "        \"addresses\": [\n",
      "          \"mx6bnbmqcpcL8xTtqCnrwARmyBexsSAquJ\"\n",
      "        ],\n",
      "        \"script_type\": \"pay-to-pubkey-hash\",\n",
      "        \"age\": 2817893\n",
      "      }\n",
      "    ],\n",
      "    \"outputs\": [\n",
      "      {\n",
      "        \"value\": 460000,\n",
      "        \"script\": \"524104c0cf10c9664036023ccbe92850463ad150f1c49d5397631ae2cf7fd5624a32a06b467dba0c8da5c4ae57b2c04ac7835e1a4992267515b16982163275b5ef5ae44104512d968f5e326bead0308226f85139319415ebfffa888b7d11cd100fe309afb46fad857d319f7b087d330063f9f11b27d134d66461e3b559d8bfffefb8f8590e41046c52e1a5581faea9a224c72b1920ec2fc04a299d9c3d4304af0ed28af2622de5ec29ad4d12b8551fc9f342e2d9d7d013ee1cdc7e22a999b111f066ba6239fbf253ae\",\n",
      "        \"addresses\": [\n",
      "          \"zNNG7fpaMaAMAbuCkJFkHv4GEGso36hJRp\"\n",
      "        ],\n",
      "        \"script_type\": \"pay-to-multi-pubkey-hash\"\n",
      "      }\n",
      "    ]\n",
      "  }\n",
      "}\n"
     ]
    }
   ],
   "source": [
    "# First Transaction\n",
    "\n",
    "def send_P2PKH_tx(amount_to_spend, txid_to_spend, utxo_index, txout_scriptPubKey):\n",
    "    txin = create_txin(txid_to_spend, utxo_index)\n",
    "    txout = create_txout(amount_to_spend, txout_scriptPubKey)\n",
    "\n",
    "    txin_scriptPubKey = P2PKH_scriptPubKey(my_public_key)\n",
    "    txin_scriptSig = P2PKH_scriptSig(txin, [txout], txin_scriptPubKey, my_private_key, my_public_key)\n",
    "    sig_tx = create_signed_transaction(txin, [txout], txin_scriptPubKey, txin_scriptSig)\n",
    "\n",
    "    return broadcast_transaction(sig_tx)\n",
    "\n",
    "amount_to_spend = 0.0046\n",
    "txid_to_spend = ('8e27cc9c57399ae487d1e3c2140fd642cbb38affa4bc9adea818c140ffdb7a5c')\n",
    "utxo_index = 0\n",
    "txout_scriptPubKey = [OP_2, public_key1, public_key2, public_key3, OP_3, OP_CHECKMULTISIG]\n",
    "print_response(send_P2PKH_tx(amount_to_spend, txid_to_spend, utxo_index, txout_scriptPubKey), my_address, my_public_key, my_private_key)"
   ]
  },
  {
   "cell_type": "markdown",
   "metadata": {},
   "source": [
    "From the previous part we have 0.0046 coins and given the 0.00045 fee here we can transfer 0.00415 coins."
   ]
  },
  {
   "cell_type": "code",
   "execution_count": 9,
   "metadata": {},
   "outputs": [
    {
     "name": "stdout",
     "output_type": "stream",
     "text": [
      "mx6bnbmqcpcL8xTtqCnrwARmyBexsSAquJ\n",
      "04c6f372f079ebc9fb5fede0fa2d929471cfbc612feb92cf0d269ee5e47826c8b35aa758b6f0defbafc608acaa4f510279d963467fbd82491902fef478d6d8d4a5\n",
      "17ae8aa6337fa2e0e463904d77a44fcd9dd3005e6fa989875382604e74733fb5\n",
      "201 Created\n",
      "{\n",
      "  \"tx\": {\n",
      "    \"block_height\": -1,\n",
      "    \"block_index\": -1,\n",
      "    \"hash\": \"1de7e090773e8b99e7647d0d9bdc05846352a124298cc2992df37505599c9338\",\n",
      "    \"addresses\": [\n",
      "      \"zNNG7fpaMaAMAbuCkJFkHv4GEGso36hJRp\",\n",
      "      \"mx6bnbmqcpcL8xTtqCnrwARmyBexsSAquJ\"\n",
      "    ],\n",
      "    \"total\": 415000,\n",
      "    \"fees\": 45000,\n",
      "    \"size\": 231,\n",
      "    \"vsize\": 231,\n",
      "    \"preference\": \"high\",\n",
      "    \"relayed_by\": \"188.118.98.114\",\n",
      "    \"received\": \"2024-05-26T17:57:24.284823372Z\",\n",
      "    \"ver\": 1,\n",
      "    \"double_spend\": false,\n",
      "    \"vin_sz\": 1,\n",
      "    \"vout_sz\": 1,\n",
      "    \"confirmations\": 0,\n",
      "    \"inputs\": [\n",
      "      {\n",
      "        \"prev_hash\": \"0a57b593553ec4bda3057289027ee5a4e8e282c5128751d8b4872c24acf98abf\",\n",
      "        \"output_index\": 0,\n",
      "        \"script\": \"00483045022100c86320f2154f2de400e8915b2de374b2cab998f91c40853c18a06c9535bbc626022031c16dacc224b0409a6de26c856be17197ec6d84f7ad1a86a07741465fb83930014730440220254c94025d561cdf4cdc08ca207301fc8af418125b6c776515d4dd8c99a56d81022045d5f5fd43cf078bf7f4bfe5927c5ab0dfd7bd3850225ead6f791288d11364ae01\",\n",
      "        \"output_value\": 460000,\n",
      "        \"sequence\": 4294967295,\n",
      "        \"addresses\": [\n",
      "          \"zNNG7fpaMaAMAbuCkJFkHv4GEGso36hJRp\"\n",
      "        ],\n",
      "        \"script_type\": \"pay-to-multi-pubkey-hash\",\n",
      "        \"age\": 2817924\n",
      "      }\n",
      "    ],\n",
      "    \"outputs\": [\n",
      "      {\n",
      "        \"value\": 415000,\n",
      "        \"script\": \"76a914b5df0942adc5f69fb5a406ba2a0b2f61fc80997d88ac\",\n",
      "        \"addresses\": [\n",
      "          \"mx6bnbmqcpcL8xTtqCnrwARmyBexsSAquJ\"\n",
      "        ],\n",
      "        \"script_type\": \"pay-to-pubkey-hash\"\n",
      "      }\n",
      "    ]\n",
      "  }\n",
      "}\n"
     ]
    }
   ],
   "source": [
    "# Second Transaction\n",
    "def P2PKH_scriptSig_with_two_signers(txin, txout, txin_scriptPubKey, first_private_key, second_private_key):\n",
    "    first_signature = create_OP_CHECKSIG_signature(txin, txout, txin_scriptPubKey, first_private_key)\n",
    "    second_signature = create_OP_CHECKSIG_signature(txin, txout, txin_scriptPubKey, second_private_key)\n",
    "    return [OP_0, first_signature, second_signature]\n",
    "\n",
    "def send_P2PKH_multi_sig_tx(amount_to_spend, txid_to_spend, utxo_index, txout_scriptPubKey):\n",
    "    txin = create_txin(txid_to_spend, utxo_index)\n",
    "    txout = create_txout(amount_to_spend, txout_scriptPubKey)\n",
    "\n",
    "    txin_scriptPubKey = [OP_2, public_key1, public_key2, public_key3, OP_3, OP_CHECKMULTISIG]\n",
    "    txin_scriptSig = P2PKH_scriptSig_with_two_signers(txin, [txout], txin_scriptPubKey, private_key1, private_key2)\n",
    "    sig_tx = create_signed_transaction(txin, [txout], txin_scriptPubKey, txin_scriptSig)\n",
    "\n",
    "    return broadcast_transaction(sig_tx)\n",
    "\n",
    "amount_to_spend = 0.00415\n",
    "txid_to_spend = ('0a57b593553ec4bda3057289027ee5a4e8e282c5128751d8b4872c24acf98abf')\n",
    "utxo_index = 0\n",
    "txout_scriptPubKey = P2PKH_scriptPubKey(my_public_key)\n",
    "print_response(send_P2PKH_multi_sig_tx(amount_to_spend, txid_to_spend, utxo_index, txout_scriptPubKey), my_address, my_public_key, my_private_key)"
   ]
  },
  {
   "cell_type": "markdown",
   "metadata": {},
   "source": [
    "Here when we are sending the money, we put the limitation \n",
    "``` [OP_2, public_key1, public_key2, public_key3, OP_3, OP_CHECKMULTISIG] ```\n",
    "causing that the spender should have two of these three signatures so it can spend it.\n",
    "<br>\n",
    "We create these two signatures using function `P2PKH_scriptSig_with_two_signers` which gets two private keys and signs the transaction with each one."
   ]
  },
  {
   "cell_type": "markdown",
   "metadata": {},
   "source": [
    "2.3: Custom Transaction (BitCoin Scripting)\n"
   ]
  },
  {
   "cell_type": "markdown",
   "metadata": {},
   "source": [
    "First we define our constants for the problem"
   ]
  },
  {
   "cell_type": "code",
   "execution_count": 5,
   "metadata": {},
   "outputs": [],
   "source": [
    "BIRTH_YEAR = 2003\n",
    "CURR_YEAR = 2024\n",
    "PASSWORD = 810100231"
   ]
  },
  {
   "cell_type": "markdown",
   "metadata": {},
   "source": [
    "From previous section we have 0.00415 coins and given the fact that we give 0.00045 fee we can send 0.0037 here."
   ]
  },
  {
   "cell_type": "code",
   "execution_count": 17,
   "metadata": {},
   "outputs": [
    {
     "name": "stdout",
     "output_type": "stream",
     "text": [
      "mx6bnbmqcpcL8xTtqCnrwARmyBexsSAquJ\n",
      "04c6f372f079ebc9fb5fede0fa2d929471cfbc612feb92cf0d269ee5e47826c8b35aa758b6f0defbafc608acaa4f510279d963467fbd82491902fef478d6d8d4a5\n",
      "17ae8aa6337fa2e0e463904d77a44fcd9dd3005e6fa989875382604e74733fb5\n",
      "201 Created\n",
      "{\n",
      "  \"tx\": {\n",
      "    \"block_height\": -1,\n",
      "    \"block_index\": -1,\n",
      "    \"hash\": \"a1cafeba32d4901cd64ba71289231818288ceb4b451f196a65a62555bd074a7d\",\n",
      "    \"addresses\": [\n",
      "      \"mx6bnbmqcpcL8xTtqCnrwARmyBexsSAquJ\"\n",
      "    ],\n",
      "    \"total\": 370000,\n",
      "    \"fees\": 45000,\n",
      "    \"size\": 230,\n",
      "    \"vsize\": 230,\n",
      "    \"preference\": \"high\",\n",
      "    \"relayed_by\": \"104.244.77.108\",\n",
      "    \"received\": \"2024-05-27T15:13:15.502246215Z\",\n",
      "    \"ver\": 1,\n",
      "    \"double_spend\": false,\n",
      "    \"vin_sz\": 1,\n",
      "    \"vout_sz\": 1,\n",
      "    \"confirmations\": 0,\n",
      "    \"inputs\": [\n",
      "      {\n",
      "        \"prev_hash\": \"1de7e090773e8b99e7647d0d9bdc05846352a124298cc2992df37505599c9338\",\n",
      "        \"output_index\": 0,\n",
      "        \"script\": \"4730440220326795257a2c6fc47ce860d699b5ac4a7e6d08e357e670ee6f7e31a7a28ff51602201866f8872cf463e218f36d41435d67bca0b3af9456f4bf185b9b5c2b8ba31d2c014104c6f372f079ebc9fb5fede0fa2d929471cfbc612feb92cf0d269ee5e47826c8b35aa758b6f0defbafc608acaa4f510279d963467fbd82491902fef478d6d8d4a5\",\n",
      "        \"output_value\": 415000,\n",
      "        \"sequence\": 4294967295,\n",
      "        \"addresses\": [\n",
      "          \"mx6bnbmqcpcL8xTtqCnrwARmyBexsSAquJ\"\n",
      "        ],\n",
      "        \"script_type\": \"pay-to-pubkey-hash\",\n",
      "        \"age\": 2817963\n",
      "      }\n",
      "    ],\n",
      "    \"outputs\": [\n",
      "      {\n",
      "        \"value\": 370000,\n",
      "        \"script\": \"940112a063755167a9143d07734fbaf442ce4510adf95fb3289c5b7ee9688768\",\n",
      "        \"addresses\": null,\n",
      "        \"script_type\": \"unknown\"\n",
      "      }\n",
      "    ]\n",
      "  }\n",
      "}\n"
     ]
    }
   ],
   "source": [
    "# First Transaction\n",
    "\n",
    "def send_P2PKH_tx(amount_to_spend, txid_to_spend, utxo_index, txout_scriptPubKey):\n",
    "    txin = create_txin(txid_to_spend, utxo_index)\n",
    "    txout = create_txout(amount_to_spend, txout_scriptPubKey)\n",
    "\n",
    "    txin_scriptPubKey = P2PKH_scriptPubKey(my_public_key)\n",
    "    txin_scriptSig = P2PKH_scriptSig(txin, [txout], txin_scriptPubKey, my_private_key, my_public_key)\n",
    "    tx = create_signed_transaction(txin, [txout], txin_scriptPubKey, txin_scriptSig)\n",
    "\n",
    "    return broadcast_transaction(tx)\n",
    "\n",
    "amount_to_spend = 0.0037\n",
    "txid_to_spend = ('1de7e090773e8b99e7647d0d9bdc05846352a124298cc2992df37505599c9338')\n",
    "utxo_index = 0\n",
    "txout_scriptPubKey = [OP_SUB, 18 , OP_GREATERTHAN, OP_IF, OP_DROP, OP_TRUE, OP_ELSE, OP_HASH160, \n",
    "                      Hash160(PASSWORD.to_bytes(4, byteorder=\"little\")), OP_EQUAL, OP_ENDIF]\n",
    "print_response(send_P2PKH_tx(amount_to_spend, txid_to_spend, utxo_index, txout_scriptPubKey), my_address, my_public_key, my_private_key)"
   ]
  },
  {
   "cell_type": "markdown",
   "metadata": {},
   "source": [
    "For the stack logic here we setup the stack like `[password, current-year, birth-year]`. Now first we check that if the age is above 18. By first sub the top two elements of stack using `OP_SUB` and then putting 18 on stack. Then using `OP_GREATERTHAN` we check the age. If it was true we drop the password using `OP_DROP` and then put true on top.\n",
    "\n",
    "If it wasn't greater we first hash the password using `OP_HASH` and then check it with the real password that we have which is `PASSWORD`."
   ]
  },
  {
   "cell_type": "markdown",
   "metadata": {},
   "source": [
    "Now we define new values for test.\n",
    "Here we want to see if the age condition passes.\n",
    "From the prev section we have 0.0037 and the fee is 0.00045 so we can transfer 0.00325."
   ]
  },
  {
   "cell_type": "markdown",
   "metadata": {},
   "source": [
    "Below are the new values for the validation"
   ]
  },
  {
   "cell_type": "code",
   "execution_count": 6,
   "metadata": {},
   "outputs": [],
   "source": [
    "NEW_BIRTH_YEAR = 2003\n",
    "NEW_CURR_YEAR = 2024\n",
    "NEW_PASSWORD = 810100232"
   ]
  },
  {
   "cell_type": "markdown",
   "metadata": {},
   "source": [
    "Here we send the coins to a key that has the restrictions of the description again."
   ]
  },
  {
   "cell_type": "code",
   "execution_count": 8,
   "metadata": {},
   "outputs": [
    {
     "name": "stdout",
     "output_type": "stream",
     "text": [
      "mx6bnbmqcpcL8xTtqCnrwARmyBexsSAquJ\n",
      "04c6f372f079ebc9fb5fede0fa2d929471cfbc612feb92cf0d269ee5e47826c8b35aa758b6f0defbafc608acaa4f510279d963467fbd82491902fef478d6d8d4a5\n",
      "17ae8aa6337fa2e0e463904d77a44fcd9dd3005e6fa989875382604e74733fb5\n",
      "201 Created\n",
      "{\n",
      "  \"tx\": {\n",
      "    \"block_height\": -1,\n",
      "    \"block_index\": -1,\n",
      "    \"hash\": \"ef51b3d5528c2631b075a557688baeb62ac7674fef407936f7615cb7529d2dc0\",\n",
      "    \"addresses\": [],\n",
      "    \"total\": 325000,\n",
      "    \"fees\": 45000,\n",
      "    \"size\": 103,\n",
      "    \"vsize\": 103,\n",
      "    \"preference\": \"high\",\n",
      "    \"relayed_by\": \"104.244.77.108\",\n",
      "    \"received\": \"2024-05-27T19:08:59.818390777Z\",\n",
      "    \"ver\": 1,\n",
      "    \"double_spend\": false,\n",
      "    \"vin_sz\": 1,\n",
      "    \"vout_sz\": 1,\n",
      "    \"confirmations\": 0,\n",
      "    \"inputs\": [\n",
      "      {\n",
      "        \"prev_hash\": \"a1cafeba32d4901cd64ba71289231818288ceb4b451f196a65a62555bd074a7d\",\n",
      "        \"output_index\": 0,\n",
      "        \"script\": \"040826493002e80702d307\",\n",
      "        \"output_value\": 370000,\n",
      "        \"sequence\": 4294967295,\n",
      "        \"script_type\": \"unknown\",\n",
      "        \"age\": 2818101\n",
      "      }\n",
      "    ],\n",
      "    \"outputs\": [\n",
      "      {\n",
      "        \"value\": 325000,\n",
      "        \"script\": \"940112a063755167a9143d07734fbaf442ce4510adf95fb3289c5b7ee9688768\",\n",
      "        \"addresses\": null,\n",
      "        \"script_type\": \"unknown\"\n",
      "      }\n",
      "    ]\n",
      "  }\n",
      "}\n"
     ]
    }
   ],
   "source": [
    "# Second Transaction\n",
    "\n",
    "def send_P2PKH_custome_tx(amount_to_spend, txid_to_spend, utxo_index, txout_scriptPubKey):\n",
    "    txin = create_txin(txid_to_spend, utxo_index)\n",
    "    txout = create_txout(amount_to_spend, txout_scriptPubKey)\n",
    "\n",
    "    txin_scriptPubKey = [OP_SUB, 18 , OP_GREATERTHAN, OP_IF, OP_DROP, OP_TRUE, OP_ELSE, OP_HASH160, \n",
    "                      Hash160(PASSWORD.to_bytes(4, byteorder=\"little\")), OP_EQUAL, OP_ENDIF]\n",
    "    txin_scriptSig = [NEW_PASSWORD, NEW_CURR_YEAR, NEW_BIRTH_YEAR]\n",
    "    tx = create_signed_transaction(txin, [txout], txin_scriptPubKey, txin_scriptSig)\n",
    "\n",
    "    return broadcast_transaction(tx)\n",
    "\n",
    "amount_to_spend = 0.00325\n",
    "txid_to_spend = ('a1cafeba32d4901cd64ba71289231818288ceb4b451f196a65a62555bd074a7d')\n",
    "utxo_index = 0\n",
    "txout_scriptPubKey = [OP_SUB, 18 , OP_GREATERTHAN, OP_IF, OP_DROP, OP_TRUE, OP_ELSE, OP_HASH160, \n",
    "                      Hash160(PASSWORD.to_bytes(4, byteorder=\"little\")), OP_EQUAL, OP_ENDIF]\n",
    "print_response(send_P2PKH_custome_tx(amount_to_spend, txid_to_spend, utxo_index, txout_scriptPubKey), my_address, my_public_key, my_private_key)"
   ]
  },
  {
   "cell_type": "markdown",
   "metadata": {},
   "source": [
    "Now we define new values for second test.\n",
    "Here we want to see if the password condition passes.\n",
    "From the prev section we have 0.00325 and the fee is 0.00045 so we can transfer 0.0028."
   ]
  },
  {
   "cell_type": "code",
   "execution_count": 6,
   "metadata": {},
   "outputs": [],
   "source": [
    "NEW_BIRTH_YEAR = 2010\n",
    "NEW_CURR_YEAR = 2024\n",
    "NEW_PASSWORD = 810100231"
   ]
  },
  {
   "cell_type": "code",
   "execution_count": 8,
   "metadata": {},
   "outputs": [
    {
     "name": "stdout",
     "output_type": "stream",
     "text": [
      "mx6bnbmqcpcL8xTtqCnrwARmyBexsSAquJ\n",
      "04c6f372f079ebc9fb5fede0fa2d929471cfbc612feb92cf0d269ee5e47826c8b35aa758b6f0defbafc608acaa4f510279d963467fbd82491902fef478d6d8d4a5\n",
      "17ae8aa6337fa2e0e463904d77a44fcd9dd3005e6fa989875382604e74733fb5\n",
      "201 Created\n",
      "{\n",
      "  \"tx\": {\n",
      "    \"block_height\": -1,\n",
      "    \"block_index\": -1,\n",
      "    \"hash\": \"f3106a88d621b17b45089a182953341265700346a2fe96c16abc0c91455d2e61\",\n",
      "    \"addresses\": [\n",
      "      \"mx6bnbmqcpcL8xTtqCnrwARmyBexsSAquJ\"\n",
      "    ],\n",
      "    \"total\": 280000,\n",
      "    \"fees\": 45000,\n",
      "    \"size\": 96,\n",
      "    \"vsize\": 96,\n",
      "    \"preference\": \"high\",\n",
      "    \"relayed_by\": \"104.244.77.108\",\n",
      "    \"received\": \"2024-05-27T20:25:59.774046734Z\",\n",
      "    \"ver\": 1,\n",
      "    \"double_spend\": false,\n",
      "    \"vin_sz\": 1,\n",
      "    \"vout_sz\": 1,\n",
      "    \"confirmations\": 0,\n",
      "    \"inputs\": [\n",
      "      {\n",
      "        \"prev_hash\": \"ef51b3d5528c2631b075a557688baeb62ac7674fef407936f7615cb7529d2dc0\",\n",
      "        \"output_index\": 0,\n",
      "        \"script\": \"040726493002e80702da07\",\n",
      "        \"output_value\": 325000,\n",
      "        \"sequence\": 4294967295,\n",
      "        \"script_type\": \"unknown\",\n",
      "        \"age\": 2818121\n",
      "      }\n",
      "    ],\n",
      "    \"outputs\": [\n",
      "      {\n",
      "        \"value\": 280000,\n",
      "        \"script\": \"76a914b5df0942adc5f69fb5a406ba2a0b2f61fc80997d88ac\",\n",
      "        \"addresses\": [\n",
      "          \"mx6bnbmqcpcL8xTtqCnrwARmyBexsSAquJ\"\n",
      "        ],\n",
      "        \"script_type\": \"pay-to-pubkey-hash\"\n",
      "      }\n",
      "    ]\n",
      "  }\n",
      "}\n"
     ]
    }
   ],
   "source": [
    "# Third Transaction\n",
    "\n",
    "def send_P2PKH_custome_tx(amount_to_spend, txid_to_spend, utxo_index, txout_scriptPubKey):\n",
    "    txin = create_txin(txid_to_spend, utxo_index)\n",
    "    txout = create_txout(amount_to_spend, txout_scriptPubKey)\n",
    "\n",
    "    txin_scriptPubKey = [OP_SUB, 18 , OP_GREATERTHAN, OP_IF, OP_DROP, OP_TRUE, OP_ELSE, OP_HASH160, \n",
    "                      Hash160(PASSWORD.to_bytes(4, byteorder=\"little\")), OP_EQUAL, OP_ENDIF]\n",
    "    txin_scriptSig = [NEW_PASSWORD, NEW_CURR_YEAR, NEW_BIRTH_YEAR]\n",
    "    tx = create_signed_transaction(txin, [txout], txin_scriptPubKey, txin_scriptSig)\n",
    "\n",
    "    return broadcast_transaction(tx)\n",
    "\n",
    "\n",
    "amount_to_spend = 0.0028\n",
    "txid_to_spend = ('ef51b3d5528c2631b075a557688baeb62ac7674fef407936f7615cb7529d2dc0')\n",
    "utxo_index = 0\n",
    "txout_scriptPubKey = P2PKH_scriptPubKey(my_public_key)\n",
    "print_response(send_P2PKH_custome_tx(amount_to_spend, txid_to_spend, utxo_index, txout_scriptPubKey), my_address, my_public_key, my_private_key)"
   ]
  },
  {
   "cell_type": "markdown",
   "metadata": {},
   "source": [
    "## Q1:\n",
    "\n",
    "Proof of burn (POB) is an alternative consensus algorithm that tries to address the high energy consumption issue of a POW system.\n",
    "\n",
    "POB is often called a POW system without energy waste. It operates on the principle of allowing miners to burn virtual currency tokens. They are then granted the right to write blocks in proportion to the coins burnt.\n",
    "\n",
    "To burn the coins, miners send them to a verifiably un-spendable address. This process does not consume many resources and ensures that the network remains active and agile. Depending upon the implementation, miners are allowed to burn the native currency or the currency of an alternate chain, such as Bitcoin. In exchange, they receive a reward in the native currency token of the blockchain.\n",
    "\n",
    "To prevent the possibility of unfair advantages for early adopters the POB system has implemented a mechanism that promotes the periodic burning of cryptocurrency coins to maintain mining power. The power of burnt coins reduces partially each time a new block is mined. This promotes regular activity by the miner.\n",
    "\n",
    "The other thing to notice here is that burning coins can cause more justice in the network because the power in consensus does not just depend on mining power of miners.\n",
    "\n",
    "Burning coins reduces the total supply of bitcoins. This reduction acts like remurrage on the remaining coins increasing their value proportionally. For example, if 21 million bitcoins exist and 1 million are burned, the remaining 20 million bitcoins effectively increase in value as if multiplied by 21/20.\n",
    "\n",
    "In a world without explicit remurrage, the real value of holdings increases quietly due to the reduced supply. Holders can spend a portion of their holdings that represents this value increase without losing their original share of the total supply."
   ]
  },
  {
   "cell_type": "markdown",
   "metadata": {},
   "source": [
    "## Q2:\n",
    "Bitcoin's scripting language is a stack-based language designed to process transactions within the Bitcoin network. It plays a crucial role in the validation of transactions and the execution of various types of transactions including multi-signature transactions and time-locked transactions.\n",
    "\n",
    "Here are some of the features:<br>\n",
    "\n",
    "1. `Stack-Based Execution:` Script operates using a stack-based architecture where operations push and pop data from a stack.\n",
    "\n",
    "2. `Simple and Limited:` Script is intentionally not Turing complete. This means it lacks certain features such as loops and more complex control flow mechanisms. The primary reason for this is to maintain security and prevent infinite loops or other problematic behavior that could arise from more complex scripts.\n",
    "\n",
    "3. `Deterministic Execution:` Every node in the Bitcoin network must reach the same conclusion about whether a transaction is valid. So Script is designed to be deterministic which means that the same script will always produce the same result given the same input.\n",
    "\n",
    "**Transactions in Bitcoin involve two types of scripts:**<br>\n",
    "\n",
    "- `Locking Script (ScriptPubKey):` \n",
    "\n",
    "This script specifies the conditions that must be met for someone to spend the bitcoins.\n",
    "\n",
    "- `Unlocking Script (ScriptSig):` \n",
    "\n",
    "This script provides the data required to satisfy the conditions set by the locking script.\n",
    "\n",
    "This language is not turing complete because Script does not support loops which prevents the possibility of infinite loops. The other thing to notice here is that by limiting the complexity of scripts it ensures that transaction validation remains efficient.\n",
    "\n",
    "**Potential benefits if it was turing complete:**\n",
    "\n",
    "A Turing complete language could enable a wider variety of complex applications. This could include more sophisticated multi-signature schemes and etc.By allowing more complex scripts Bitcoin could compete more directly with other blockchain platforms like Ethereum which are designed with Turing complete languages."
   ]
  }
 ],
 "metadata": {
  "kernelspec": {
   "display_name": "Python 3",
   "language": "python",
   "name": "python3"
  },
  "language_info": {
   "codemirror_mode": {
    "name": "ipython",
    "version": 3
   },
   "file_extension": ".py",
   "mimetype": "text/x-python",
   "name": "python",
   "nbconvert_exporter": "python",
   "pygments_lexer": "ipython3",
   "version": "3.undefined.undefined"
  }
 },
 "nbformat": 4,
 "nbformat_minor": 2
}
